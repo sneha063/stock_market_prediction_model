{
 "cells": [
  {
   "cell_type": "code",
   "execution_count": 1,
   "id": "37053ba5",
   "metadata": {},
   "outputs": [],
   "source": [
    "import yfinance as yf"
   ]
  },
  {
   "cell_type": "code",
   "execution_count": 2,
   "id": "4fbf9998",
   "metadata": {},
   "outputs": [
    {
     "name": "stdout",
     "output_type": "stream",
     "text": [
      "[*********************100%***********************]  1 of 1 completed\n"
     ]
    }
   ],
   "source": [
    "sp500 = yf.download('^NSEI', start='1900-01-01', end='2023-07-01')"
   ]
  },
  {
   "cell_type": "code",
   "execution_count": 3,
   "id": "9630bca3",
   "metadata": {},
   "outputs": [
    {
     "name": "stdout",
     "output_type": "stream",
     "text": [
      "                    Open          High           Low         Close  \\\n",
      "Date                                                                 \n",
      "2007-09-17   4518.450195   4549.049805   4482.850098   4494.649902   \n",
      "2007-09-18   4494.100098   4551.799805   4481.549805   4546.200195   \n",
      "2007-09-19   4550.250000   4739.000000   4550.250000   4732.350098   \n",
      "2007-09-20   4734.850098   4760.850098   4721.149902   4747.549805   \n",
      "2007-09-21   4752.950195   4855.700195   4733.700195   4837.549805   \n",
      "...                  ...           ...           ...           ...   \n",
      "2023-06-23  18741.849609  18756.400391  18647.099609  18665.500000   \n",
      "2023-06-26  18682.349609  18722.050781  18646.699219  18691.199219   \n",
      "2023-06-27  18748.550781  18829.250000  18714.250000  18817.400391   \n",
      "2023-06-28  18908.150391  19011.250000  18861.349609  18972.099609   \n",
      "2023-06-30  19076.849609  19201.699219  19024.599609  19189.050781   \n",
      "\n",
      "               Adj Close  Volume  \n",
      "Date                              \n",
      "2007-09-17   4494.649902       0  \n",
      "2007-09-18   4546.200195       0  \n",
      "2007-09-19   4732.350098       0  \n",
      "2007-09-20   4747.549805       0  \n",
      "2007-09-21   4837.549805       0  \n",
      "...                  ...     ...  \n",
      "2023-06-23  18665.500000  210600  \n",
      "2023-06-26  18691.199219  171300  \n",
      "2023-06-27  18817.400391  222500  \n",
      "2023-06-28  18972.099609  398800  \n",
      "2023-06-30  19189.050781  247900  \n",
      "\n",
      "[3869 rows x 6 columns]\n"
     ]
    }
   ],
   "source": [
    "print(sp500)"
   ]
  },
  {
   "cell_type": "code",
   "execution_count": 4,
   "id": "7bda8640",
   "metadata": {},
   "outputs": [],
   "source": [
    "sp500 = yf.Ticker(\"^NSEI\")"
   ]
  },
  {
   "cell_type": "code",
   "execution_count": 5,
   "id": "aa02ebd1",
   "metadata": {},
   "outputs": [],
   "source": [
    "sp500 = sp500.history(period = \"max\")"
   ]
  },
  {
   "cell_type": "code",
   "execution_count": 6,
   "id": "b375aae8",
   "metadata": {},
   "outputs": [
    {
     "data": {
      "text/html": [
       "<div>\n",
       "<style scoped>\n",
       "    .dataframe tbody tr th:only-of-type {\n",
       "        vertical-align: middle;\n",
       "    }\n",
       "\n",
       "    .dataframe tbody tr th {\n",
       "        vertical-align: top;\n",
       "    }\n",
       "\n",
       "    .dataframe thead th {\n",
       "        text-align: right;\n",
       "    }\n",
       "</style>\n",
       "<table border=\"1\" class=\"dataframe\">\n",
       "  <thead>\n",
       "    <tr style=\"text-align: right;\">\n",
       "      <th></th>\n",
       "      <th>Open</th>\n",
       "      <th>High</th>\n",
       "      <th>Low</th>\n",
       "      <th>Close</th>\n",
       "      <th>Volume</th>\n",
       "      <th>Dividends</th>\n",
       "      <th>Stock Splits</th>\n",
       "    </tr>\n",
       "    <tr>\n",
       "      <th>Date</th>\n",
       "      <th></th>\n",
       "      <th></th>\n",
       "      <th></th>\n",
       "      <th></th>\n",
       "      <th></th>\n",
       "      <th></th>\n",
       "      <th></th>\n",
       "    </tr>\n",
       "  </thead>\n",
       "  <tbody>\n",
       "    <tr>\n",
       "      <th>2007-09-17 00:00:00+05:30</th>\n",
       "      <td>4518.450195</td>\n",
       "      <td>4549.049805</td>\n",
       "      <td>4482.850098</td>\n",
       "      <td>4494.649902</td>\n",
       "      <td>0</td>\n",
       "      <td>0.0</td>\n",
       "      <td>0.0</td>\n",
       "    </tr>\n",
       "    <tr>\n",
       "      <th>2007-09-18 00:00:00+05:30</th>\n",
       "      <td>4494.100098</td>\n",
       "      <td>4551.799805</td>\n",
       "      <td>4481.549805</td>\n",
       "      <td>4546.200195</td>\n",
       "      <td>0</td>\n",
       "      <td>0.0</td>\n",
       "      <td>0.0</td>\n",
       "    </tr>\n",
       "    <tr>\n",
       "      <th>2007-09-19 00:00:00+05:30</th>\n",
       "      <td>4550.250000</td>\n",
       "      <td>4739.000000</td>\n",
       "      <td>4550.250000</td>\n",
       "      <td>4732.350098</td>\n",
       "      <td>0</td>\n",
       "      <td>0.0</td>\n",
       "      <td>0.0</td>\n",
       "    </tr>\n",
       "    <tr>\n",
       "      <th>2007-09-20 00:00:00+05:30</th>\n",
       "      <td>4734.850098</td>\n",
       "      <td>4760.850098</td>\n",
       "      <td>4721.149902</td>\n",
       "      <td>4747.549805</td>\n",
       "      <td>0</td>\n",
       "      <td>0.0</td>\n",
       "      <td>0.0</td>\n",
       "    </tr>\n",
       "    <tr>\n",
       "      <th>2007-09-21 00:00:00+05:30</th>\n",
       "      <td>4752.950195</td>\n",
       "      <td>4855.700195</td>\n",
       "      <td>4733.700195</td>\n",
       "      <td>4837.549805</td>\n",
       "      <td>0</td>\n",
       "      <td>0.0</td>\n",
       "      <td>0.0</td>\n",
       "    </tr>\n",
       "    <tr>\n",
       "      <th>...</th>\n",
       "      <td>...</td>\n",
       "      <td>...</td>\n",
       "      <td>...</td>\n",
       "      <td>...</td>\n",
       "      <td>...</td>\n",
       "      <td>...</td>\n",
       "      <td>...</td>\n",
       "    </tr>\n",
       "    <tr>\n",
       "      <th>2023-07-03 00:00:00+05:30</th>\n",
       "      <td>19246.500000</td>\n",
       "      <td>19345.099609</td>\n",
       "      <td>19234.400391</td>\n",
       "      <td>19322.550781</td>\n",
       "      <td>226100</td>\n",
       "      <td>0.0</td>\n",
       "      <td>0.0</td>\n",
       "    </tr>\n",
       "    <tr>\n",
       "      <th>2023-07-04 00:00:00+05:30</th>\n",
       "      <td>19406.599609</td>\n",
       "      <td>19434.150391</td>\n",
       "      <td>19300.000000</td>\n",
       "      <td>19389.000000</td>\n",
       "      <td>226900</td>\n",
       "      <td>0.0</td>\n",
       "      <td>0.0</td>\n",
       "    </tr>\n",
       "    <tr>\n",
       "      <th>2023-07-05 00:00:00+05:30</th>\n",
       "      <td>19405.949219</td>\n",
       "      <td>19421.599609</td>\n",
       "      <td>19339.599609</td>\n",
       "      <td>19398.500000</td>\n",
       "      <td>224400</td>\n",
       "      <td>0.0</td>\n",
       "      <td>0.0</td>\n",
       "    </tr>\n",
       "    <tr>\n",
       "      <th>2023-07-06 00:00:00+05:30</th>\n",
       "      <td>19385.699219</td>\n",
       "      <td>19512.199219</td>\n",
       "      <td>19373.000000</td>\n",
       "      <td>19497.300781</td>\n",
       "      <td>268300</td>\n",
       "      <td>0.0</td>\n",
       "      <td>0.0</td>\n",
       "    </tr>\n",
       "    <tr>\n",
       "      <th>2023-07-07 00:00:00+05:30</th>\n",
       "      <td>19422.800781</td>\n",
       "      <td>19523.599609</td>\n",
       "      <td>19303.599609</td>\n",
       "      <td>19331.800781</td>\n",
       "      <td>0</td>\n",
       "      <td>0.0</td>\n",
       "      <td>0.0</td>\n",
       "    </tr>\n",
       "  </tbody>\n",
       "</table>\n",
       "<p>3874 rows × 7 columns</p>\n",
       "</div>"
      ],
      "text/plain": [
       "                                   Open          High           Low  \\\n",
       "Date                                                                  \n",
       "2007-09-17 00:00:00+05:30   4518.450195   4549.049805   4482.850098   \n",
       "2007-09-18 00:00:00+05:30   4494.100098   4551.799805   4481.549805   \n",
       "2007-09-19 00:00:00+05:30   4550.250000   4739.000000   4550.250000   \n",
       "2007-09-20 00:00:00+05:30   4734.850098   4760.850098   4721.149902   \n",
       "2007-09-21 00:00:00+05:30   4752.950195   4855.700195   4733.700195   \n",
       "...                                 ...           ...           ...   \n",
       "2023-07-03 00:00:00+05:30  19246.500000  19345.099609  19234.400391   \n",
       "2023-07-04 00:00:00+05:30  19406.599609  19434.150391  19300.000000   \n",
       "2023-07-05 00:00:00+05:30  19405.949219  19421.599609  19339.599609   \n",
       "2023-07-06 00:00:00+05:30  19385.699219  19512.199219  19373.000000   \n",
       "2023-07-07 00:00:00+05:30  19422.800781  19523.599609  19303.599609   \n",
       "\n",
       "                                  Close  Volume  Dividends  Stock Splits  \n",
       "Date                                                                      \n",
       "2007-09-17 00:00:00+05:30   4494.649902       0        0.0           0.0  \n",
       "2007-09-18 00:00:00+05:30   4546.200195       0        0.0           0.0  \n",
       "2007-09-19 00:00:00+05:30   4732.350098       0        0.0           0.0  \n",
       "2007-09-20 00:00:00+05:30   4747.549805       0        0.0           0.0  \n",
       "2007-09-21 00:00:00+05:30   4837.549805       0        0.0           0.0  \n",
       "...                                 ...     ...        ...           ...  \n",
       "2023-07-03 00:00:00+05:30  19322.550781  226100        0.0           0.0  \n",
       "2023-07-04 00:00:00+05:30  19389.000000  226900        0.0           0.0  \n",
       "2023-07-05 00:00:00+05:30  19398.500000  224400        0.0           0.0  \n",
       "2023-07-06 00:00:00+05:30  19497.300781  268300        0.0           0.0  \n",
       "2023-07-07 00:00:00+05:30  19331.800781       0        0.0           0.0  \n",
       "\n",
       "[3874 rows x 7 columns]"
      ]
     },
     "execution_count": 6,
     "metadata": {},
     "output_type": "execute_result"
    }
   ],
   "source": [
    "sp500"
   ]
  },
  {
   "cell_type": "code",
   "execution_count": 7,
   "id": "dc353e6c",
   "metadata": {},
   "outputs": [
    {
     "data": {
      "text/plain": [
       "DatetimeIndex(['2007-09-17 00:00:00+05:30', '2007-09-18 00:00:00+05:30',\n",
       "               '2007-09-19 00:00:00+05:30', '2007-09-20 00:00:00+05:30',\n",
       "               '2007-09-21 00:00:00+05:30', '2007-09-24 00:00:00+05:30',\n",
       "               '2007-09-25 00:00:00+05:30', '2007-09-26 00:00:00+05:30',\n",
       "               '2007-09-27 00:00:00+05:30', '2007-09-28 00:00:00+05:30',\n",
       "               ...\n",
       "               '2023-06-23 00:00:00+05:30', '2023-06-26 00:00:00+05:30',\n",
       "               '2023-06-27 00:00:00+05:30', '2023-06-28 00:00:00+05:30',\n",
       "               '2023-06-30 00:00:00+05:30', '2023-07-03 00:00:00+05:30',\n",
       "               '2023-07-04 00:00:00+05:30', '2023-07-05 00:00:00+05:30',\n",
       "               '2023-07-06 00:00:00+05:30', '2023-07-07 00:00:00+05:30'],\n",
       "              dtype='datetime64[ns, Asia/Kolkata]', name='Date', length=3874, freq=None)"
      ]
     },
     "execution_count": 7,
     "metadata": {},
     "output_type": "execute_result"
    }
   ],
   "source": [
    "sp500.index"
   ]
  },
  {
   "cell_type": "code",
   "execution_count": 8,
   "id": "ab7b60a0",
   "metadata": {},
   "outputs": [
    {
     "data": {
      "text/plain": [
       "<Axes: xlabel='Date'>"
      ]
     },
     "execution_count": 8,
     "metadata": {},
     "output_type": "execute_result"
    },
    {
     "data": {
      "image/png": "[encoded data removed]",
      "text/plain": [
       "<Figure size 640x480 with 1 Axes>"
      ]
     },
     "metadata": {},
     "output_type": "display_data"
    }
   ],
   "source": [
    "sp500.plot.line(y = \"Close\", use_index = True)"
   ]
  },
  {
   "cell_type": "code",
   "execution_count": 9,
   "id": "1e8a6487",
   "metadata": {},
   "outputs": [],
   "source": [
    "del sp500[\"Dividends\"]\n",
    "del sp500[\"Stock Splits\"]"
   ]
  },
  {
   "cell_type": "code",
   "execution_count": 10,
   "id": "220ce7b7",
   "metadata": {},
   "outputs": [],
   "source": [
    "sp500[\"Tomorrow\"] = sp500[\"Close\"].shift(-1)"
   ]
  },
  {
   "cell_type": "code",
   "execution_count": 11,
   "id": "8818c951",
   "metadata": {},
   "outputs": [
    {
     "data": {
      "text/html": [
       "<div>\n",
       "<style scoped>\n",
       "    .dataframe tbody tr th:only-of-type {\n",
       "        vertical-align: middle;\n",
       "    }\n",
       "\n",
       "    .dataframe tbody tr th {\n",
       "        vertical-align: top;\n",
       "    }\n",
       "\n",
       "    .dataframe thead th {\n",
       "        text-align: right;\n",
       "    }\n",
       "</style>\n",
       "<table border=\"1\" class=\"dataframe\">\n",
       "  <thead>\n",
       "    <tr style=\"text-align: right;\">\n",
       "      <th></th>\n",
       "      <th>Open</th>\n",
       "      <th>High</th>\n",
       "      <th>Low</th>\n",
       "      <th>Close</th>\n",
       "      <th>Volume</th>\n",
       "      <th>Tomorrow</th>\n",
       "    </tr>\n",
       "    <tr>\n",
       "      <th>Date</th>\n",
       "      <th></th>\n",
       "      <th></th>\n",
       "      <th></th>\n",
       "      <th></th>\n",
       "      <th></th>\n",
       "      <th></th>\n",
       "    </tr>\n",
       "  </thead>\n",
       "  <tbody>\n",
       "    <tr>\n",
       "      <th>2007-09-17 00:00:00+05:30</th>\n",
       "      <td>4518.450195</td>\n",
       "      <td>4549.049805</td>\n",
       "      <td>4482.850098</td>\n",
       "      <td>4494.649902</td>\n",
       "      <td>0</td>\n",
       "      <td>4546.200195</td>\n",
       "    </tr>\n",
       "    <tr>\n",
       "      <th>2007-09-18 00:00:00+05:30</th>\n",
       "      <td>4494.100098</td>\n",
       "      <td>4551.799805</td>\n",
       "      <td>4481.549805</td>\n",
       "      <td>4546.200195</td>\n",
       "      <td>0</td>\n",
       "      <td>4732.350098</td>\n",
       "    </tr>\n",
       "    <tr>\n",
       "      <th>2007-09-19 00:00:00+05:30</th>\n",
       "      <td>4550.250000</td>\n",
       "      <td>4739.000000</td>\n",
       "      <td>4550.250000</td>\n",
       "      <td>4732.350098</td>\n",
       "      <td>0</td>\n",
       "      <td>4747.549805</td>\n",
       "    </tr>\n",
       "    <tr>\n",
       "      <th>2007-09-20 00:00:00+05:30</th>\n",
       "      <td>4734.850098</td>\n",
       "      <td>4760.850098</td>\n",
       "      <td>4721.149902</td>\n",
       "      <td>4747.549805</td>\n",
       "      <td>0</td>\n",
       "      <td>4837.549805</td>\n",
       "    </tr>\n",
       "    <tr>\n",
       "      <th>2007-09-21 00:00:00+05:30</th>\n",
       "      <td>4752.950195</td>\n",
       "      <td>4855.700195</td>\n",
       "      <td>4733.700195</td>\n",
       "      <td>4837.549805</td>\n",
       "      <td>0</td>\n",
       "      <td>4932.200195</td>\n",
       "    </tr>\n",
       "    <tr>\n",
       "      <th>...</th>\n",
       "      <td>...</td>\n",
       "      <td>...</td>\n",
       "      <td>...</td>\n",
       "      <td>...</td>\n",
       "      <td>...</td>\n",
       "      <td>...</td>\n",
       "    </tr>\n",
       "    <tr>\n",
       "      <th>2023-07-03 00:00:00+05:30</th>\n",
       "      <td>19246.500000</td>\n",
       "      <td>19345.099609</td>\n",
       "      <td>19234.400391</td>\n",
       "      <td>19322.550781</td>\n",
       "      <td>226100</td>\n",
       "      <td>19389.000000</td>\n",
       "    </tr>\n",
       "    <tr>\n",
       "      <th>2023-07-04 00:00:00+05:30</th>\n",
       "      <td>19406.599609</td>\n",
       "      <td>19434.150391</td>\n",
       "      <td>19300.000000</td>\n",
       "      <td>19389.000000</td>\n",
       "      <td>226900</td>\n",
       "      <td>19398.500000</td>\n",
       "    </tr>\n",
       "    <tr>\n",
       "      <th>2023-07-05 00:00:00+05:30</th>\n",
       "      <td>19405.949219</td>\n",
       "      <td>19421.599609</td>\n",
       "      <td>19339.599609</td>\n",
       "      <td>19398.500000</td>\n",
       "      <td>224400</td>\n",
       "      <td>19497.300781</td>\n",
       "    </tr>\n",
       "    <tr>\n",
       "      <th>2023-07-06 00:00:00+05:30</th>\n",
       "      <td>19385.699219</td>\n",
       "      <td>19512.199219</td>\n",
       "      <td>19373.000000</td>\n",
       "      <td>19497.300781</td>\n",
       "      <td>268300</td>\n",
       "      <td>19331.800781</td>\n",
       "    </tr>\n",
       "    <tr>\n",
       "      <th>2023-07-07 00:00:00+05:30</th>\n",
       "      <td>19422.800781</td>\n",
       "      <td>19523.599609</td>\n",
       "      <td>19303.599609</td>\n",
       "      <td>19331.800781</td>\n",
       "      <td>0</td>\n",
       "      <td>NaN</td>\n",
       "    </tr>\n",
       "  </tbody>\n",
       "</table>\n",
       "<p>3874 rows × 6 columns</p>\n",
       "</div>"
      ],
      "text/plain": [
       "                                   Open          High           Low  \\\n",
       "Date                                                                  \n",
       "2007-09-17 00:00:00+05:30   4518.450195   4549.049805   4482.850098   \n",
       "2007-09-18 00:00:00+05:30   4494.100098   4551.799805   4481.549805   \n",
       "2007-09-19 00:00:00+05:30   4550.250000   4739.000000   4550.250000   \n",
       "2007-09-20 00:00:00+05:30   4734.850098   4760.850098   4721.149902   \n",
       "2007-09-21 00:00:00+05:30   4752.950195   4855.700195   4733.700195   \n",
       "...                                 ...           ...           ...   \n",
       "2023-07-03 00:00:00+05:30  19246.500000  19345.099609  19234.400391   \n",
       "2023-07-04 00:00:00+05:30  19406.599609  19434.150391  19300.000000   \n",
       "2023-07-05 00:00:00+05:30  19405.949219  19421.599609  19339.599609   \n",
       "2023-07-06 00:00:00+05:30  19385.699219  19512.199219  19373.000000   \n",
       "2023-07-07 00:00:00+05:30  19422.800781  19523.599609  19303.599609   \n",
       "\n",
       "                                  Close  Volume      Tomorrow  \n",
       "Date                                                           \n",
       "2007-09-17 00:00:00+05:30   4494.649902       0   4546.200195  \n",
       "2007-09-18 00:00:00+05:30   4546.200195       0   4732.350098  \n",
       "2007-09-19 00:00:00+05:30   4732.350098       0   4747.549805  \n",
       "2007-09-20 00:00:00+05:30   4747.549805       0   4837.549805  \n",
       "2007-09-21 00:00:00+05:30   4837.549805       0   4932.200195  \n",
       "...                                 ...     ...           ...  \n",
       "2023-07-03 00:00:00+05:30  19322.550781  226100  19389.000000  \n",
       "2023-07-04 00:00:00+05:30  19389.000000  226900  19398.500000  \n",
       "2023-07-05 00:00:00+05:30  19398.500000  224400  19497.300781  \n",
       "2023-07-06 00:00:00+05:30  19497.300781  268300  19331.800781  \n",
       "2023-07-07 00:00:00+05:30  19331.800781       0           NaN  \n",
       "\n",
       "[3874 rows x 6 columns]"
      ]
     },
     "execution_count": 11,
     "metadata": {},
     "output_type": "execute_result"
    }
   ],
   "source": [
    "sp500"
   ]
  },
  {
   "cell_type": "code",
   "execution_count": 12,
   "id": "455f9858",
   "metadata": {},
   "outputs": [],
   "source": [
    "sp500[\"Target\"] = (sp500[\"Tomorrow\"] > sp500[\"Close\"]).astype(int)"
   ]
  },
  {
   "cell_type": "code",
   "execution_count": 13,
   "id": "aea1dfda",
   "metadata": {},
   "outputs": [
    {
     "data": {
      "text/html": [
       "<div>\n",
       "<style scoped>\n",
       "    .dataframe tbody tr th:only-of-type {\n",
       "        vertical-align: middle;\n",
       "    }\n",
       "\n",
       "    .dataframe tbody tr th {\n",
       "        vertical-align: top;\n",
       "    }\n",
       "\n",
       "    .dataframe thead th {\n",
       "        text-align: right;\n",
       "    }\n",
       "</style>\n",
       "<table border=\"1\" class=\"dataframe\">\n",
       "  <thead>\n",
       "    <tr style=\"text-align: right;\">\n",
       "      <th></th>\n",
       "      <th>Open</th>\n",
       "      <th>High</th>\n",
       "      <th>Low</th>\n",
       "      <th>Close</th>\n",
       "      <th>Volume</th>\n",
       "      <th>Tomorrow</th>\n",
       "      <th>Target</th>\n",
       "    </tr>\n",
       "    <tr>\n",
       "      <th>Date</th>\n",
       "      <th></th>\n",
       "      <th></th>\n",
       "      <th></th>\n",
       "      <th></th>\n",
       "      <th></th>\n",
       "      <th></th>\n",
       "      <th></th>\n",
       "    </tr>\n",
       "  </thead>\n",
       "  <tbody>\n",
       "    <tr>\n",
       "      <th>2007-09-17 00:00:00+05:30</th>\n",
       "      <td>4518.450195</td>\n",
       "      <td>4549.049805</td>\n",
       "      <td>4482.850098</td>\n",
       "      <td>4494.649902</td>\n",
       "      <td>0</td>\n",
       "      <td>4546.200195</td>\n",
       "      <td>1</td>\n",
       "    </tr>\n",
       "    <tr>\n",
       "      <th>2007-09-18 00:00:00+05:30</th>\n",
       "      <td>4494.100098</td>\n",
       "      <td>4551.799805</td>\n",
       "      <td>4481.549805</td>\n",
       "      <td>4546.200195</td>\n",
       "      <td>0</td>\n",
       "      <td>4732.350098</td>\n",
       "      <td>1</td>\n",
       "    </tr>\n",
       "    <tr>\n",
       "      <th>2007-09-19 00:00:00+05:30</th>\n",
       "      <td>4550.250000</td>\n",
       "      <td>4739.000000</td>\n",
       "      <td>4550.250000</td>\n",
       "      <td>4732.350098</td>\n",
       "      <td>0</td>\n",
       "      <td>4747.549805</td>\n",
       "      <td>1</td>\n",
       "    </tr>\n",
       "    <tr>\n",
       "      <th>2007-09-20 00:00:00+05:30</th>\n",
       "      <td>4734.850098</td>\n",
       "      <td>4760.850098</td>\n",
       "      <td>4721.149902</td>\n",
       "      <td>4747.549805</td>\n",
       "      <td>0</td>\n",
       "      <td>4837.549805</td>\n",
       "      <td>1</td>\n",
       "    </tr>\n",
       "    <tr>\n",
       "      <th>2007-09-21 00:00:00+05:30</th>\n",
       "      <td>4752.950195</td>\n",
       "      <td>4855.700195</td>\n",
       "      <td>4733.700195</td>\n",
       "      <td>4837.549805</td>\n",
       "      <td>0</td>\n",
       "      <td>4932.200195</td>\n",
       "      <td>1</td>\n",
       "    </tr>\n",
       "    <tr>\n",
       "      <th>...</th>\n",
       "      <td>...</td>\n",
       "      <td>...</td>\n",
       "      <td>...</td>\n",
       "      <td>...</td>\n",
       "      <td>...</td>\n",
       "      <td>...</td>\n",
       "      <td>...</td>\n",
       "    </tr>\n",
       "    <tr>\n",
       "      <th>2023-07-03 00:00:00+05:30</th>\n",
       "      <td>19246.500000</td>\n",
       "      <td>19345.099609</td>\n",
       "      <td>19234.400391</td>\n",
       "      <td>19322.550781</td>\n",
       "      <td>226100</td>\n",
       "      <td>19389.000000</td>\n",
       "      <td>1</td>\n",
       "    </tr>\n",
       "    <tr>\n",
       "      <th>2023-07-04 00:00:00+05:30</th>\n",
       "      <td>19406.599609</td>\n",
       "      <td>19434.150391</td>\n",
       "      <td>19300.000000</td>\n",
       "      <td>19389.000000</td>\n",
       "      <td>226900</td>\n",
       "      <td>19398.500000</td>\n",
       "      <td>1</td>\n",
       "    </tr>\n",
       "    <tr>\n",
       "      <th>2023-07-05 00:00:00+05:30</th>\n",
       "      <td>19405.949219</td>\n",
       "      <td>19421.599609</td>\n",
       "      <td>19339.599609</td>\n",
       "      <td>19398.500000</td>\n",
       "      <td>224400</td>\n",
       "      <td>19497.300781</td>\n",
       "      <td>1</td>\n",
       "    </tr>\n",
       "    <tr>\n",
       "      <th>2023-07-06 00:00:00+05:30</th>\n",
       "      <td>19385.699219</td>\n",
       "      <td>19512.199219</td>\n",
       "      <td>19373.000000</td>\n",
       "      <td>19497.300781</td>\n",
       "      <td>268300</td>\n",
       "      <td>19331.800781</td>\n",
       "      <td>0</td>\n",
       "    </tr>\n",
       "    <tr>\n",
       "      <th>2023-07-07 00:00:00+05:30</th>\n",
       "      <td>19422.800781</td>\n",
       "      <td>19523.599609</td>\n",
       "      <td>19303.599609</td>\n",
       "      <td>19331.800781</td>\n",
       "      <td>0</td>\n",
       "      <td>NaN</td>\n",
       "      <td>0</td>\n",
       "    </tr>\n",
       "  </tbody>\n",
       "</table>\n",
       "<p>3874 rows × 7 columns</p>\n",
       "</div>"
      ],
      "text/plain": [
       "                                   Open          High           Low  \\\n",
       "Date                                                                  \n",
       "2007-09-17 00:00:00+05:30   4518.450195   4549.049805   4482.850098   \n",
       "2007-09-18 00:00:00+05:30   4494.100098   4551.799805   4481.549805   \n",
       "2007-09-19 00:00:00+05:30   4550.250000   4739.000000   4550.250000   \n",
       "2007-09-20 00:00:00+05:30   4734.850098   4760.850098   4721.149902   \n",
       "2007-09-21 00:00:00+05:30   4752.950195   4855.700195   4733.700195   \n",
       "...                                 ...           ...           ...   \n",
       "2023-07-03 00:00:00+05:30  19246.500000  19345.099609  19234.400391   \n",
       "2023-07-04 00:00:00+05:30  19406.599609  19434.150391  19300.000000   \n",
       "2023-07-05 00:00:00+05:30  19405.949219  19421.599609  19339.599609   \n",
       "2023-07-06 00:00:00+05:30  19385.699219  19512.199219  19373.000000   \n",
       "2023-07-07 00:00:00+05:30  19422.800781  19523.599609  19303.599609   \n",
       "\n",
       "                                  Close  Volume      Tomorrow  Target  \n",
       "Date                                                                   \n",
       "2007-09-17 00:00:00+05:30   4494.649902       0   4546.200195       1  \n",
       "2007-09-18 00:00:00+05:30   4546.200195       0   4732.350098       1  \n",
       "2007-09-19 00:00:00+05:30   4732.350098       0   4747.549805       1  \n",
       "2007-09-20 00:00:00+05:30   4747.549805       0   4837.549805       1  \n",
       "2007-09-21 00:00:00+05:30   4837.549805       0   4932.200195       1  \n",
       "...                                 ...     ...           ...     ...  \n",
       "2023-07-03 00:00:00+05:30  19322.550781  226100  19389.000000       1  \n",
       "2023-07-04 00:00:00+05:30  19389.000000  226900  19398.500000       1  \n",
       "2023-07-05 00:00:00+05:30  19398.500000  224400  19497.300781       1  \n",
       "2023-07-06 00:00:00+05:30  19497.300781  268300  19331.800781       0  \n",
       "2023-07-07 00:00:00+05:30  19331.800781       0           NaN       0  \n",
       "\n",
       "[3874 rows x 7 columns]"
      ]
     },
     "execution_count": 13,
     "metadata": {},
     "output_type": "execute_result"
    }
   ],
   "source": [
    "sp500"
   ]
  },
  {
   "cell_type": "code",
   "execution_count": 14,
   "id": "02c4da22",
   "metadata": {},
   "outputs": [
    {
     "data": {
      "text/html": [
       "<style>#sk-container-id-1 {color: black;background-color: white;}#sk-container-id-1 pre{padding: 0;}#sk-container-id-1 div.sk-toggleable {background-color: white;}#sk-container-id-1 label.sk-toggleable__label {cursor: pointer;display: block;width: 100%;margin-bottom: 0;padding: 0.3em;box-sizing: border-box;text-align: center;}#sk-container-id-1 label.sk-toggleable__label-arrow:before {content: \"▸\";float: left;margin-right: 0.25em;color: #696969;}#sk-container-id-1 label.sk-toggleable__label-arrow:hover:before {color: black;}#sk-container-id-1 div.sk-estimator:hover label.sk-toggleable__label-arrow:before {color: black;}#sk-container-id-1 div.sk-toggleable__content {max-height: 0;max-width: 0;overflow: hidden;text-align: left;background-color: #f0f8ff;}#sk-container-id-1 div.sk-toggleable__content pre {margin: 0.2em;color: black;border-radius: 0.25em;background-color: #f0f8ff;}#sk-container-id-1 input.sk-toggleable__control:checked~div.sk-toggleable__content {max-height: 200px;max-width: 100%;overflow: auto;}#sk-container-id-1 input.sk-toggleable__control:checked~label.sk-toggleable__label-arrow:before {content: \"▾\";}#sk-container-id-1 div.sk-estimator input.sk-toggleable__control:checked~label.sk-toggleable__label {background-color: #d4ebff;}#sk-container-id-1 div.sk-label input.sk-toggleable__control:checked~label.sk-toggleable__label {background-color: #d4ebff;}#sk-container-id-1 input.sk-hidden--visually {border: 0;clip: rect(1px 1px 1px 1px);clip: rect(1px, 1px, 1px, 1px);height: 1px;margin: -1px;overflow: hidden;padding: 0;position: absolute;width: 1px;}#sk-container-id-1 div.sk-estimator {font-family: monospace;background-color: #f0f8ff;border: 1px dotted black;border-radius: 0.25em;box-sizing: border-box;margin-bottom: 0.5em;}#sk-container-id-1 div.sk-estimator:hover {background-color: #d4ebff;}#sk-container-id-1 div.sk-parallel-item::after {content: \"\";width: 100%;border-bottom: 1px solid gray;flex-grow: 1;}#sk-container-id-1 div.sk-label:hover label.sk-toggleable__label {background-color: #d4ebff;}#sk-container-id-1 div.sk-serial::before {content: \"\";position: absolute;border-left: 1px solid gray;box-sizing: border-box;top: 0;bottom: 0;left: 50%;z-index: 0;}#sk-container-id-1 div.sk-serial {display: flex;flex-direction: column;align-items: center;background-color: white;padding-right: 0.2em;padding-left: 0.2em;position: relative;}#sk-container-id-1 div.sk-item {position: relative;z-index: 1;}#sk-container-id-1 div.sk-parallel {display: flex;align-items: stretch;justify-content: center;background-color: white;position: relative;}#sk-container-id-1 div.sk-item::before, #sk-container-id-1 div.sk-parallel-item::before {content: \"\";position: absolute;border-left: 1px solid gray;box-sizing: border-box;top: 0;bottom: 0;left: 50%;z-index: -1;}#sk-container-id-1 div.sk-parallel-item {display: flex;flex-direction: column;z-index: 1;position: relative;background-color: white;}#sk-container-id-1 div.sk-parallel-item:first-child::after {align-self: flex-end;width: 50%;}#sk-container-id-1 div.sk-parallel-item:last-child::after {align-self: flex-start;width: 50%;}#sk-container-id-1 div.sk-parallel-item:only-child::after {width: 0;}#sk-container-id-1 div.sk-dashed-wrapped {border: 1px dashed gray;margin: 0 0.4em 0.5em 0.4em;box-sizing: border-box;padding-bottom: 0.4em;background-color: white;}#sk-container-id-1 div.sk-label label {font-family: monospace;font-weight: bold;display: inline-block;line-height: 1.2em;}#sk-container-id-1 div.sk-label-container {text-align: center;}#sk-container-id-1 div.sk-container {/* jupyter's `normalize.less` sets `[hidden] { display: none; }` but bootstrap.min.css set `[hidden] { display: none !important; }` so we also need the `!important` here to be able to override the default hidden behavior on the sphinx rendered scikit-learn.org. See: https://github.com/scikit-learn/scikit-learn/issues/21755 */display: inline-block !important;position: relative;}#sk-container-id-1 div.sk-text-repr-fallback {display: none;}</style><div id=\"sk-container-id-1\" class=\"sk-top-container\"><div class=\"sk-text-repr-fallback\"><pre>RandomForestClassifier(min_samples_split=100, random_state=1)</pre><b>In a Jupyter environment, please rerun this cell to show the HTML representation or trust the notebook. <br />On GitHub, the HTML representation is unable to render, please try loading this page with nbviewer.org.</b></div><div class=\"sk-container\" hidden><div class=\"sk-item\"><div class=\"sk-estimator sk-toggleable\"><input class=\"sk-toggleable__control sk-hidden--visually\" id=\"sk-estimator-id-1\" type=\"checkbox\" checked><label for=\"sk-estimator-id-1\" class=\"sk-toggleable__label sk-toggleable__label-arrow\">RandomForestClassifier</label><div class=\"sk-toggleable__content\"><pre>RandomForestClassifier(min_samples_split=100, random_state=1)</pre></div></div></div></div></div>"
      ],
      "text/plain": [
       "RandomForestClassifier(min_samples_split=100, random_state=1)"
      ]
     },
     "execution_count": 14,
     "metadata": {},
     "output_type": "execute_result"
    }
   ],
   "source": [
    "from sklearn.ensemble import RandomForestClassifier\n",
    "\n",
    "model = RandomForestClassifier(n_estimators = 100, min_samples_split=100, random_state =1)\n",
    "\n",
    "train = sp500.iloc[:-100]\n",
    "test = sp500.iloc[-100:]\n",
    "\n",
    "predictors = [\"Close\", \"Volume\", \"Open\", \"High\", \"Low\"]\n",
    "model.fit(train[predictors], train[\"Target\"])"
   ]
  },
  {
   "cell_type": "code",
   "execution_count": 15,
   "id": "a0e85a86",
   "metadata": {},
   "outputs": [],
   "source": [
    "from sklearn.metrics import precision_score\n",
    "\n",
    "preds = model.predict(test[predictors])"
   ]
  },
  {
   "cell_type": "code",
   "execution_count": 16,
   "id": "b3892999",
   "metadata": {},
   "outputs": [],
   "source": [
    "import pandas as pd\n",
    "preds = pd.Series(preds, index = test.index)"
   ]
  },
  {
   "cell_type": "code",
   "execution_count": 17,
   "id": "3c0c7c36",
   "metadata": {},
   "outputs": [
    {
     "data": {
      "text/plain": [
       "0.5263157894736842"
      ]
     },
     "execution_count": 17,
     "metadata": {},
     "output_type": "execute_result"
    }
   ],
   "source": [
    "precision_score(test[\"Target\"], preds)"
   ]
  },
  {
   "cell_type": "code",
   "execution_count": 18,
   "id": "e0b84b03",
   "metadata": {},
   "outputs": [
    {
     "data": {
      "text/plain": [
       "Date\n",
       "2023-02-09 00:00:00+05:30    1\n",
       "2023-02-10 00:00:00+05:30    1\n",
       "2023-02-13 00:00:00+05:30    1\n",
       "2023-02-14 00:00:00+05:30    1\n",
       "2023-02-15 00:00:00+05:30    1\n",
       "                            ..\n",
       "2023-07-03 00:00:00+05:30    0\n",
       "2023-07-04 00:00:00+05:30    0\n",
       "2023-07-05 00:00:00+05:30    0\n",
       "2023-07-06 00:00:00+05:30    0\n",
       "2023-07-07 00:00:00+05:30    0\n",
       "Length: 100, dtype: int32"
      ]
     },
     "execution_count": 18,
     "metadata": {},
     "output_type": "execute_result"
    }
   ],
   "source": [
    "preds"
   ]
  },
  {
   "cell_type": "code",
   "execution_count": 19,
   "id": "343c866d",
   "metadata": {},
   "outputs": [],
   "source": [
    "combined = pd.concat([test[\"Target\"], preds], axis = 1)"
   ]
  },
  {
   "cell_type": "code",
   "execution_count": 20,
   "id": "5bce0a48",
   "metadata": {},
   "outputs": [
    {
     "data": {
      "text/plain": [
       "<Axes: xlabel='Date'>"
      ]
     },
     "execution_count": 20,
     "metadata": {},
     "output_type": "execute_result"
    },
    {
     "data": {
      "image/png": "[encoded data removed]",
      "text/plain": [
       "<Figure size 640x480 with 1 Axes>"
      ]
     },
     "metadata": {},
     "output_type": "display_data"
    }
   ],
   "source": [
    "combined.plot()"
   ]
  },
  {
   "cell_type": "code",
   "execution_count": 21,
   "id": "2057f301",
   "metadata": {},
   "outputs": [],
   "source": [
    "def predict(train, test, predictors, model):\n",
    "    model.fit(train[predictors], train[\"Target\"])\n",
    "    preds = model.predict(test[predictors])\n",
    "    preds = pd.Series(preds, index = test.index, name = \"Predictions\")\n",
    "    combined = pd.concate([test[\"Target\"], preds], axis =1)\n",
    "    return combined"
   ]
  },
  {
   "cell_type": "code",
   "execution_count": 22,
   "id": "0ce1616b",
   "metadata": {},
   "outputs": [],
   "source": [
    "def backtest(data, model, predictors, start = 2500, step = 250):\n",
    "    all_predictions = []\n",
    "    \n",
    "    for i in range(start, data.shape[0], step):\n",
    "        train = data.iloc[0:i].copy()\n",
    "        test = data.iloc[i:(i+step)].copy()\n",
    "        predictions = predict(train, test, predictions, model)\n",
    "        all_predictions.append(predictions)\n",
    "    return pd.concat(all_predictions)   "
   ]
  },
  {
   "cell_type": "code",
   "execution_count": 23,
   "id": "350d1d5f",
   "metadata": {},
   "outputs": [],
   "source": [
    "predictions = (sp500, model, predictors,)"
   ]
  },
  {
   "cell_type": "code",
   "execution_count": 24,
   "id": "9e797eb8",
   "metadata": {},
   "outputs": [
    {
     "ename": "TypeError",
     "evalue": "'tuple' object is not callable",
     "output_type": "error",
     "traceback": [
      "\u001b[1;31m---------------------------------------------------------------------------\u001b[0m",
      "\u001b[1;31mTypeError\u001b[0m                                 Traceback (most recent call last)",
      "Cell \u001b[1;32mIn[24], line 1\u001b[0m\n\u001b[1;32m----> 1\u001b[0m \u001b[43mpredictions\u001b[49m\u001b[43m(\u001b[49m\u001b[38;5;124;43m\"\u001b[39;49m\u001b[38;5;124;43mPredictions\u001b[39;49m\u001b[38;5;124;43m\"\u001b[39;49m\u001b[43m)\u001b[49m\u001b[38;5;241m.\u001b[39mvalue_counts()\n",
      "\u001b[1;31mTypeError\u001b[0m: 'tuple' object is not callable"
     ]
    }
   ],
   "source": [
    "predictions(\"Predictions\").value_counts()"
   ]
  },
  {
   "cell_type": "code",
   "execution_count": 25,
   "id": "92c25d0f",
   "metadata": {},
   "outputs": [
    {
     "ename": "TypeError",
     "evalue": "tuple indices must be integers or slices, not str",
     "output_type": "error",
     "traceback": [
      "\u001b[1;31m---------------------------------------------------------------------------\u001b[0m",
      "\u001b[1;31mTypeError\u001b[0m                                 Traceback (most recent call last)",
      "Cell \u001b[1;32mIn[25], line 1\u001b[0m\n\u001b[1;32m----> 1\u001b[0m precision_score(\u001b[43mpredictions\u001b[49m\u001b[43m[\u001b[49m\u001b[38;5;124;43m\"\u001b[39;49m\u001b[38;5;124;43mTarget\u001b[39;49m\u001b[38;5;124;43m\"\u001b[39;49m\u001b[43m]\u001b[49m, predictions[\u001b[38;5;124m\"\u001b[39m\u001b[38;5;124mPredictions\u001b[39m\u001b[38;5;124m\"\u001b[39m])\n",
      "\u001b[1;31mTypeError\u001b[0m: tuple indices must be integers or slices, not str"
     ]
    }
   ],
   "source": [
    "precision_score(predictions[\"Target\"], predictions[\"Predictions\"])"
   ]
  },
  {
   "cell_type": "code",
   "execution_count": 26,
   "id": "2cdf05f9",
   "metadata": {},
   "outputs": [
    {
     "ename": "TypeError",
     "evalue": "tuple indices must be integers or slices, not str",
     "output_type": "error",
     "traceback": [
      "\u001b[1;31m---------------------------------------------------------------------------\u001b[0m",
      "\u001b[1;31mTypeError\u001b[0m                                 Traceback (most recent call last)",
      "Cell \u001b[1;32mIn[26], line 1\u001b[0m\n\u001b[1;32m----> 1\u001b[0m \u001b[43mpredictions\u001b[49m\u001b[43m[\u001b[49m\u001b[38;5;124;43m\"\u001b[39;49m\u001b[38;5;124;43mTarget\u001b[39;49m\u001b[38;5;124;43m\"\u001b[39;49m\u001b[43m]\u001b[49m\u001b[38;5;241m.\u001b[39mvalue_counts() \u001b[38;5;241m/\u001b[39mpredictions\u001b[38;5;241m.\u001b[39mshape[\u001b[38;5;241m0\u001b[39m]\n",
      "\u001b[1;31mTypeError\u001b[0m: tuple indices must be integers or slices, not str"
     ]
    }
   ],
   "source": [
    "predictions[\"Target\"].value_counts() /predictions.shape[0]"
   ]
  },
  {
   "cell_type": "code",
   "execution_count": 27,
   "id": "ee96605c",
   "metadata": {},
   "outputs": [
    {
     "ename": "NameError",
     "evalue": "name 'rolling_averages' is not defined",
     "output_type": "error",
     "traceback": [
      "\u001b[1;31m---------------------------------------------------------------------------\u001b[0m",
      "\u001b[1;31mNameError\u001b[0m                                 Traceback (most recent call last)",
      "Cell \u001b[1;32mIn[27], line 8\u001b[0m\n\u001b[0;32m      5\u001b[0m rolling_average \u001b[38;5;241m=\u001b[39m sp500\u001b[38;5;241m.\u001b[39mrolling(horizon)\u001b[38;5;241m.\u001b[39mmean()\n\u001b[0;32m      7\u001b[0m ratio_column \u001b[38;5;241m=\u001b[39m \u001b[38;5;124mf\u001b[39m\u001b[38;5;124m\"\u001b[39m\u001b[38;5;124mClose_Ratio_\u001b[39m\u001b[38;5;132;01m{\u001b[39;00mhorizon\u001b[38;5;132;01m}\u001b[39;00m\u001b[38;5;124m\"\u001b[39m\n\u001b[1;32m----> 8\u001b[0m sp500[ratio_coloumn] \u001b[38;5;241m=\u001b[39m sp500[\u001b[38;5;124m\"\u001b[39m\u001b[38;5;124mClose\u001b[39m\u001b[38;5;124m\"\u001b[39m]\u001b[38;5;241m/\u001b[39m\u001b[43mrolling_averages\u001b[49m[\u001b[38;5;124m\"\u001b[39m\u001b[38;5;124mClose\u001b[39m\u001b[38;5;124m\"\u001b[39m]\n\u001b[0;32m     10\u001b[0m trend_coloumn \u001b[38;5;241m=\u001b[39m \u001b[38;5;124mf\u001b[39m\u001b[38;5;124m\"\u001b[39m\u001b[38;5;124mTrend_\u001b[39m\u001b[38;5;132;01m{\u001b[39;00mhorizon\u001b[38;5;132;01m}\u001b[39;00m\u001b[38;5;124m\"\u001b[39m\n\u001b[0;32m     11\u001b[0m sp500[trend_coloumn] \u001b[38;5;241m=\u001b[39m sp500\u001b[38;5;241m.\u001b[39mshift(\u001b[38;5;241m1\u001b[39m)\u001b[38;5;241m.\u001b[39mrolling(horizon)\u001b[38;5;241m.\u001b[39msum()[\u001b[38;5;124m\"\u001b[39m\u001b[38;5;124mTarget\u001b[39m\u001b[38;5;124m\"\u001b[39m]\n",
      "\u001b[1;31mNameError\u001b[0m: name 'rolling_averages' is not defined"
     ]
    }
   ],
   "source": [
    "horizons = [2, 5, 60, 250, 1000]\n",
    "new_predictors = []\n",
    "\n",
    "for horizon in horizons:\n",
    "    rolling_average = sp500.rolling(horizon).mean()\n",
    "    \n",
    "    ratio_column = f\"Close_Ratio_{horizon}\"\n",
    "    sp500[ratio_coloumn] = sp500[\"Close\"]/rolling_averages[\"Close\"]\n",
    "    \n",
    "    trend_coloumn = f\"Trend_{horizon}\"\n",
    "    sp500[trend_coloumn] = sp500.shift(1).rolling(horizon).sum()[\"Target\"]\n",
    "    \n",
    "    new_predictors += [ratio_coloumn, trend_coloumn]\n",
    "    "
   ]
  },
  {
   "cell_type": "code",
   "execution_count": 28,
   "id": "a0659dea",
   "metadata": {},
   "outputs": [
    {
     "data": {
      "text/html": [
       "<div>\n",
       "<style scoped>\n",
       "    .dataframe tbody tr th:only-of-type {\n",
       "        vertical-align: middle;\n",
       "    }\n",
       "\n",
       "    .dataframe tbody tr th {\n",
       "        vertical-align: top;\n",
       "    }\n",
       "\n",
       "    .dataframe thead th {\n",
       "        text-align: right;\n",
       "    }\n",
       "</style>\n",
       "<table border=\"1\" class=\"dataframe\">\n",
       "  <thead>\n",
       "    <tr style=\"text-align: right;\">\n",
       "      <th></th>\n",
       "      <th>Open</th>\n",
       "      <th>High</th>\n",
       "      <th>Low</th>\n",
       "      <th>Close</th>\n",
       "      <th>Volume</th>\n",
       "      <th>Tomorrow</th>\n",
       "      <th>Target</th>\n",
       "    </tr>\n",
       "    <tr>\n",
       "      <th>Date</th>\n",
       "      <th></th>\n",
       "      <th></th>\n",
       "      <th></th>\n",
       "      <th></th>\n",
       "      <th></th>\n",
       "      <th></th>\n",
       "      <th></th>\n",
       "    </tr>\n",
       "  </thead>\n",
       "  <tbody>\n",
       "    <tr>\n",
       "      <th>2007-09-17 00:00:00+05:30</th>\n",
       "      <td>4518.450195</td>\n",
       "      <td>4549.049805</td>\n",
       "      <td>4482.850098</td>\n",
       "      <td>4494.649902</td>\n",
       "      <td>0</td>\n",
       "      <td>4546.200195</td>\n",
       "      <td>1</td>\n",
       "    </tr>\n",
       "    <tr>\n",
       "      <th>2007-09-18 00:00:00+05:30</th>\n",
       "      <td>4494.100098</td>\n",
       "      <td>4551.799805</td>\n",
       "      <td>4481.549805</td>\n",
       "      <td>4546.200195</td>\n",
       "      <td>0</td>\n",
       "      <td>4732.350098</td>\n",
       "      <td>1</td>\n",
       "    </tr>\n",
       "    <tr>\n",
       "      <th>2007-09-19 00:00:00+05:30</th>\n",
       "      <td>4550.250000</td>\n",
       "      <td>4739.000000</td>\n",
       "      <td>4550.250000</td>\n",
       "      <td>4732.350098</td>\n",
       "      <td>0</td>\n",
       "      <td>4747.549805</td>\n",
       "      <td>1</td>\n",
       "    </tr>\n",
       "    <tr>\n",
       "      <th>2007-09-20 00:00:00+05:30</th>\n",
       "      <td>4734.850098</td>\n",
       "      <td>4760.850098</td>\n",
       "      <td>4721.149902</td>\n",
       "      <td>4747.549805</td>\n",
       "      <td>0</td>\n",
       "      <td>4837.549805</td>\n",
       "      <td>1</td>\n",
       "    </tr>\n",
       "    <tr>\n",
       "      <th>2007-09-21 00:00:00+05:30</th>\n",
       "      <td>4752.950195</td>\n",
       "      <td>4855.700195</td>\n",
       "      <td>4733.700195</td>\n",
       "      <td>4837.549805</td>\n",
       "      <td>0</td>\n",
       "      <td>4932.200195</td>\n",
       "      <td>1</td>\n",
       "    </tr>\n",
       "    <tr>\n",
       "      <th>...</th>\n",
       "      <td>...</td>\n",
       "      <td>...</td>\n",
       "      <td>...</td>\n",
       "      <td>...</td>\n",
       "      <td>...</td>\n",
       "      <td>...</td>\n",
       "      <td>...</td>\n",
       "    </tr>\n",
       "    <tr>\n",
       "      <th>2023-07-03 00:00:00+05:30</th>\n",
       "      <td>19246.500000</td>\n",
       "      <td>19345.099609</td>\n",
       "      <td>19234.400391</td>\n",
       "      <td>19322.550781</td>\n",
       "      <td>226100</td>\n",
       "      <td>19389.000000</td>\n",
       "      <td>1</td>\n",
       "    </tr>\n",
       "    <tr>\n",
       "      <th>2023-07-04 00:00:00+05:30</th>\n",
       "      <td>19406.599609</td>\n",
       "      <td>19434.150391</td>\n",
       "      <td>19300.000000</td>\n",
       "      <td>19389.000000</td>\n",
       "      <td>226900</td>\n",
       "      <td>19398.500000</td>\n",
       "      <td>1</td>\n",
       "    </tr>\n",
       "    <tr>\n",
       "      <th>2023-07-05 00:00:00+05:30</th>\n",
       "      <td>19405.949219</td>\n",
       "      <td>19421.599609</td>\n",
       "      <td>19339.599609</td>\n",
       "      <td>19398.500000</td>\n",
       "      <td>224400</td>\n",
       "      <td>19497.300781</td>\n",
       "      <td>1</td>\n",
       "    </tr>\n",
       "    <tr>\n",
       "      <th>2023-07-06 00:00:00+05:30</th>\n",
       "      <td>19385.699219</td>\n",
       "      <td>19512.199219</td>\n",
       "      <td>19373.000000</td>\n",
       "      <td>19497.300781</td>\n",
       "      <td>268300</td>\n",
       "      <td>19331.800781</td>\n",
       "      <td>0</td>\n",
       "    </tr>\n",
       "    <tr>\n",
       "      <th>2023-07-07 00:00:00+05:30</th>\n",
       "      <td>19422.800781</td>\n",
       "      <td>19523.599609</td>\n",
       "      <td>19303.599609</td>\n",
       "      <td>19331.800781</td>\n",
       "      <td>0</td>\n",
       "      <td>NaN</td>\n",
       "      <td>0</td>\n",
       "    </tr>\n",
       "  </tbody>\n",
       "</table>\n",
       "<p>3874 rows × 7 columns</p>\n",
       "</div>"
      ],
      "text/plain": [
       "                                   Open          High           Low  \\\n",
       "Date                                                                  \n",
       "2007-09-17 00:00:00+05:30   4518.450195   4549.049805   4482.850098   \n",
       "2007-09-18 00:00:00+05:30   4494.100098   4551.799805   4481.549805   \n",
       "2007-09-19 00:00:00+05:30   4550.250000   4739.000000   4550.250000   \n",
       "2007-09-20 00:00:00+05:30   4734.850098   4760.850098   4721.149902   \n",
       "2007-09-21 00:00:00+05:30   4752.950195   4855.700195   4733.700195   \n",
       "...                                 ...           ...           ...   \n",
       "2023-07-03 00:00:00+05:30  19246.500000  19345.099609  19234.400391   \n",
       "2023-07-04 00:00:00+05:30  19406.599609  19434.150391  19300.000000   \n",
       "2023-07-05 00:00:00+05:30  19405.949219  19421.599609  19339.599609   \n",
       "2023-07-06 00:00:00+05:30  19385.699219  19512.199219  19373.000000   \n",
       "2023-07-07 00:00:00+05:30  19422.800781  19523.599609  19303.599609   \n",
       "\n",
       "                                  Close  Volume      Tomorrow  Target  \n",
       "Date                                                                   \n",
       "2007-09-17 00:00:00+05:30   4494.649902       0   4546.200195       1  \n",
       "2007-09-18 00:00:00+05:30   4546.200195       0   4732.350098       1  \n",
       "2007-09-19 00:00:00+05:30   4732.350098       0   4747.549805       1  \n",
       "2007-09-20 00:00:00+05:30   4747.549805       0   4837.549805       1  \n",
       "2007-09-21 00:00:00+05:30   4837.549805       0   4932.200195       1  \n",
       "...                                 ...     ...           ...     ...  \n",
       "2023-07-03 00:00:00+05:30  19322.550781  226100  19389.000000       1  \n",
       "2023-07-04 00:00:00+05:30  19389.000000  226900  19398.500000       1  \n",
       "2023-07-05 00:00:00+05:30  19398.500000  224400  19497.300781       1  \n",
       "2023-07-06 00:00:00+05:30  19497.300781  268300  19331.800781       0  \n",
       "2023-07-07 00:00:00+05:30  19331.800781       0           NaN       0  \n",
       "\n",
       "[3874 rows x 7 columns]"
      ]
     },
     "execution_count": 28,
     "metadata": {},
     "output_type": "execute_result"
    }
   ],
   "source": [
    "sp500"
   ]
  },
  {
   "cell_type": "code",
   "execution_count": null,
   "id": "b686cf3e",
   "metadata": {},
   "outputs": [],
   "source": []
  },
  {
   "cell_type": "code",
   "execution_count": null,
   "id": "a5a9459b",
   "metadata": {},
   "outputs": [],
   "source": []
  }
 ],
 "metadata": {
  "kernelspec": {
   "display_name": "Python 3 (ipykernel)",
   "language": "python",
   "name": "python3"
  },
  "language_info": {
   "codemirror_mode": {
    "name": "ipython",
    "version": 3
   },
   "file_extension": ".py",
   "mimetype": "text/x-python",
   "name": "python",
   "nbconvert_exporter": "python",
   "pygments_lexer": "ipython3",
   "version": "3.11.4"
  }
 },
 "nbformat": 4,
 "nbformat_minor": 5
}
